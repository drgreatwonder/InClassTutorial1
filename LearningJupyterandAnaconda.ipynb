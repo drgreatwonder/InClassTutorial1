{
 "cells": [
  {
   "cell_type": "markdown",
   "metadata": {
    "slideshow": {
     "slide_type": "slide"
    }
   },
   "source": [
    "### This is for Link\n",
    "\n",
    "[Google](www.google.com) to make this a link, we put google between two square brackets [Google], then put the link between two bracket (www.google.com) directly close to each other without a space between them. You can also use the regular html tag for links (i.e the a href tags) <a href=\"www.google.com\">Google</a>\n",
    "\n",
    "N/B: To save your changes on a jupyter notebook, *ctrl+s* or *Esc+s* is used. "
   ]
  },
  {
   "cell_type": "markdown",
   "metadata": {
    "slideshow": {
     "slide_type": "slide"
    }
   },
   "source": [
    "### This is for Lists\n",
    "\n",
    "- hi\n",
    "+ hi\n",
    "* hi\n",
    "\n",
    "\n",
    "To make lists, you put a -, +, or * then a space before typing the word you want to make a list. You can also use the regular html tags for list"
   ]
  },
  {
   "cell_type": "markdown",
   "metadata": {
    "slideshow": {
     "slide_type": "subslide"
    }
   },
   "source": [
    "### This for Various Types of Heading\n",
    "\n",
    "# Hi\n",
    "## Hi\n",
    "### HI\n",
    "#### Hi\n",
    "##### Hi\n",
    "###### Hi\n",
    "\n",
    "To make headings, you use the #, then leave a space before type the word you want to make an heading. Just one # signifies the largest heading and then you can reduce the heading by consecutively adding # i.e ##, ###, ####, #####, ###### (the highest is 6). You can alternatively make headings by using the heading tag in HTML."
   ]
  },
  {
   "cell_type": "markdown",
   "metadata": {
    "slideshow": {
     "slide_type": "fragment"
    }
   },
   "source": [
    "### This is for Emphasis (Italics and Bold)\n",
    "- _test_ *test*\n",
    "- __test__ **test**\n",
    "\n",
    "\n",
    "You make a text into italics by putting the word/text between two underscores (_) or asterisks* without spaces in between them. Alternatively, you use the html tags for italics.\n",
    "\n",
    "You make a text/word bold by putting the word/text between two double underscores (_) or double asterisks (*) without spaces in between them. Alternatively, you use the html tags for bold."
   ]
  },
  {
   "cell_type": "code",
   "execution_count": 1,
   "metadata": {
    "slideshow": {
     "slide_type": "fragment"
    }
   },
   "outputs": [],
   "source": [
    "    # This involves starting your code with text. The comment has to be indented too by using the tab key or spacebar\n",
    "    # The identation must be equal\n",
    "    import requests\n",
    "    response = requests.get('https://www.udacity.com')"
   ]
  },
  {
   "cell_type": "markdown",
   "metadata": {
    "slideshow": {
     "slide_type": "skip"
    }
   },
   "source": [
    "### Math expressions\n",
    "\n",
    "You can create math expressions in Markdown cells using LaTeX symbols. Notebooks use MathJax to render the LaTeX symbols as math symbols. To start math mode, wrap the LaTeX in dollar signs ($$) __$y = mx + b$__ for inline math.\n",
    "For a math block, use double dollar signs i.e write the equation between two double dollar sign as shown below:\n",
    "\n",
    "$$\n",
    "\n",
    "$$\n",
    "\n",
    "$$\n",
    "y = \\frac{a}{b+c}\n",
    "$$\n",
    "\n",
    "\n",
    "to create a fraction, we have \\frac for example 8/3: \n",
    "\n",
    "$\\frac{8}{3}$ \n",
    "\n",
    "or\n",
    "\n",
    "$$\n",
    "\\frac{8}{3}\n",
    "$$\n",
    "\n",
    "N/B: We put the \\frac and wrap the number {8} and then {3} or equation as in {a}{b+c} to be divided in a {curly brace}\n",
    "\n",
    "$\\Latex$ here, we wrap \\Latex between two $ signs\n",
    "\n",
    "\\*literal asterisks\\* here, we put the words in between \\* \\*\n",
    "\n",
    "$\\widehat{AAA}$ here, we put \\widehat{AAA} between two $ sign\n",
    "\n",
    "$\\sqrt{abc}$ here, we put \\sqrt{abc} between two $ sign\n",
    "\n",
    "I discovered that putting text in between two double dollar sign will make it invisible when run. I have an example below (which you may not see that"
   ]
  },
  {
   "cell_type": "markdown",
   "metadata": {
    "slideshow": {
     "slide_type": "skip"
    }
   },
   "source": [
    "### Magic keywords\n",
    "\n",
    "Magic keywords are special commands you can run in cells that let you control the notebook itself or perform system calls such as changing directories. For example, you can set up matplotlib to work interactively in the notebook with *%matplotlib*.\n",
    "\n",
    "Magic commands are preceded with one or two percent signs (% or %%) for line magics and cell magics, respectively. Line magics apply only to the line the magic command is written on, while cell magics apply to the whole cell.\n",
    "\n",
    "**NOTE:** These magic keywords are specific to the normal Python kernel. If you are using other kernels, these most likely won't work.\n",
    "\n",
    "Timing code\n",
    "At some point, you'll probably spend some effort optimizing code to run faster. Timing how quickly your code runs is essential for this optimization. You can use the timeit magic command to time how long it takes for a function to run.\n",
    "\n",
    "If you want to time how long it takes for a whole cell to run, you’d use %%timeit.\n",
    "\n"
   ]
  },
  {
   "cell_type": "markdown",
   "metadata": {
    "slideshow": {
     "slide_type": "notes"
    }
   },
   "source": [
    "### Embedding visualizations in notebooks\n",
    "As mentioned before, notebooks let you embed images along with text and code. This is most useful when you’re using matplotlib or other plotting packages to create visualizations. You can use %matplotlib to set up matplotlib for interactive use in the notebook. By default figures will render in their own window. However, you can pass arguments to the command to select a specific \"backend\", the software that renders the image. To render figures directly in the notebook, you should use the inline backend with the command *%matplotlib inline*.\n",
    "\n",
    "**Tip:** On higher resolution screens such as Retina displays, the default images in notebooks can look blurry. Use *%config InlineBackend.figure_format = 'retina'* after *%matplotlib inline* to render higher resolution images as in:\n",
    "\n",
    "\n",
    "\n",
    " %matplotlib inline\n",
    " \n",
    " %config InlineBackend.figure_format = 'retina'\n"
   ]
  },
  {
   "cell_type": "markdown",
   "metadata": {
    "slideshow": {
     "slide_type": "slide"
    }
   },
   "source": [
    "### Debugging in the Notebook\n",
    "With the Python kernel, you can turn on the interactive debugger using the magic command %pdb (example in the cell below). When you cause an error, you'll be able to inspect the variables in the current namespace."
   ]
  },
  {
   "cell_type": "code",
   "execution_count": 2,
   "metadata": {
    "slideshow": {
     "slide_type": "slide"
    }
   },
   "outputs": [
    {
     "name": "stdout",
     "output_type": "stream",
     "text": [
      "Automatic pdb calling has been turned ON\n"
     ]
    }
   ],
   "source": [
    "%pdb"
   ]
  },
  {
   "cell_type": "markdown",
   "metadata": {
    "slideshow": {
     "slide_type": "slide"
    }
   },
   "source": [
    "### Converting notebooks\n",
    "Notebooks are just big JSON files with the extension .ipynb. Since notebooks are JSON, it is simple to convert them to other formats. Jupyter comes with a utility called nbconvert for converting to HTML, Markdown, slideshows, etc.\n",
    "\n",
    "For example, to convert a notebook to an HTML file, in your terminal use: *jupyter nbconvert --to html notebook.ipynb*. You can alternatively use the menu bar in the jupyter notebook to download your notebook as HTML, markdown, e.t.c. In the menu bar, click File > Download as > then a dropdown of the different file types available is shown. You can then choose the file type you want to download as.\n",
    "\n",
    "Converting to HTML is useful for sharing your notebooks with others who aren't using notebooks. Markdown is great for including a notebook in blogs and other text editors that accept Markdown formatting.\n",
    "\n",
    "As always, learn more about nbconvert from the [documentation](https://nbconvert.readthedocs.io/en/latest/usage.html).\n"
   ]
  },
  {
   "cell_type": "markdown",
   "metadata": {
    "slideshow": {
     "slide_type": "slide"
    }
   },
   "source": [
    "### Creating a slideshow\n",
    "The slides are created in notebooks like normal, but you'll need to designate which cells are slides and the type of slide the cell will be. In the menu bar, click View > Cell Toolbar > Slideshow to bring up the slide cell menu on each cell. This will show a menu dropdown on each cell that lets you choose how the cell shows up in the slideshow.\n",
    "\n",
    "**Slides** are full slides that you move through left to right. **Sub-slides** show up in the slideshow by pressing up or down. **Fragments** are hidden at first, then appear with a button press. You can skip cells in the slideshow with **Skip** and **Notes** leaves the cell as speaker notes.\n",
    "\n",
    "\n",
    "### Running the slideshow\n",
    "To create the slideshow from the notebook file, you'll need to use nbconvert:\n",
    "\n",
    "    **jupyter nbconvert notebook.ipynb --to slides**\n",
    "    \n",
    "This just converts the notebook to the necessary files for the slideshow, but you need to serve it with an HTTP server to actually see the presentation.\n",
    "\n",
    "To convert it and immediately see it, use\n",
    "\n",
    "**jupyter nbconvert notebook.ipynb --to slides --post serve**\n",
    "\n",
    "This will open up the slideshow in your browser so you can present it."
   ]
  },
  {
   "cell_type": "markdown",
   "metadata": {},
   "source": [
    "### Anaconda On Windows\n",
    "A bunch of applications are installed along with Anaconda:\n",
    "\n",
    "+ Anaconda Navigator, a GUI for managing your environments and packages\n",
    "+ Anaconda Prompt, a terminal where you can use the command line interface to manage your environments and packages\n",
    "+ Spyder, an IDE geared toward scientific development\n",
    "\n",
    "To avoid errors later immediately after installation, it's best to update all the packages in the default environment. Open the Anaconda Prompt application. In the prompt, run the following commands:\n",
    "\n",
    "- conda upgrade conda\n",
    "- conda upgrade --all\n",
    "\n",
    "and answer yes when asked if you want to install the packages. The packages that come with the initial install tend to be out of date, so updating them now will prevent future errors from out of date software.\n",
    "\n",
    "**Note:** In the previous step, running *conda upgrade conda* should not be necessary because *--all* includes the conda package itself, but some users have encountered errors without it.\n",
    "\n",
    "#### Troubleshooting\n",
    "If you are seeing the following \"conda command not found\" and are using ZShell, you have to do the following:\n",
    "\n",
    "Add *export PATH=\"/Users/username/anaconda/bin:$PATH\"* to your .zsh_config file."
   ]
  },
  {
   "cell_type": "markdown",
   "metadata": {},
   "source": [
    "### Managing Packages\n",
    "\n",
    "It's also possible to specify which version of a package you want by adding the version number such as conda install numpy=1.10.\n",
    "\n",
    "Conda also automatically installs dependencies for you. For example scipy depends on numpy, it uses and requires numpy. If you install just *scipy (conda install scipy)*, Conda will also install numpy if it isn't already installed.\n",
    "\n",
    "Most of the commands are pretty intuitive. To uninstall, use *conda remove package_name*. To update a package *conda update package_name*. If you want to update all packages in an environment, which is often useful, *use conda update --all*. And finally, to list installed packages, it's *conda list* which you've seen before.\n",
    "\n",
    "If you don't know the exact name of the package you're looking for, you can try searching with (conda search *search_term*). For example, I know I want to install Beautiful Soup, but I'm not sure of the exact package name. So, I try (conda search *beautifulsoup*) (the beautifulsoup is wrapped between two asterisks. It is not rendered so because the current cell is in Markdown mode). Running *conda search beautifulsoup* will also do it.\n",
    "\n",
    "Note that your shell might expand the wildcard * before running the conda command. To fix this, wrap the search string in single or double quotes like (conda search '*beautifulsoup*') (the beautiful soup here too is also wrapped in between two asterisks before being wrapped in a single quote).\n",
    "\n",
    "**N/B:** use conda when you can (plays nicer with Anaconda installation),\n",
    "but some packages can only be installed via pip"
   ]
  },
  {
   "cell_type": "markdown",
   "metadata": {},
   "source": [
    "### Saving and loading environments\n",
    "A really useful feature is sharing environments so others can install all the packages used in your code, with the correct versions. You can save the packages to a YAML file with *conda env export > environment.yaml*. The first part *conda env export* writes out all the packages in the environment, including the Python version.\n",
    "\n",
    "Above you can see the name of the environment and all the dependencies (along with versions) are listed. The second part of the export command, *> environment.yaml* writes the exported text to a YAML file environment.yaml. This file can now be shared and others will be able to create the same environment you used for the project.\n",
    "\n",
    "To create an environment from an environment file use *conda env create -f environment.yaml*. This will create a new environment with the same name listed in environment.yaml.\n",
    "\n",
    "### Listing environments\n",
    "If you forget what your environments are named (happens to me sometimes), use *conda env list* to list out all the environments you've created. You should see a list of environments, there will be an asterisk next to the environment you're currently in. The default environment, the environment used when you aren't in one, is called root.\n",
    "\n",
    "### Removing environments\n",
    "If there are environments you don't use anymore, *conda env remove -n env_name* will remove the specified environment (here, named env_name).\n",
    "\n",
    "### Sharing environments\n",
    "When sharing your code on GitHub, it's good practice to make an environment file and include it in the repository. This will make it easier for people to install all the dependencies for your code. I also usually include a pip requirements.txt file using pip freeze [learn more here](https://pip.pypa.io/en/stable/reference/pip_freeze/) for people not using conda."
   ]
  },
  {
   "cell_type": "code",
   "execution_count": null,
   "metadata": {},
   "outputs": [],
   "source": []
  }
 ],
 "metadata": {
  "kernelspec": {
   "display_name": "Python 3",
   "language": "python",
   "name": "python3"
  },
  "language_info": {
   "codemirror_mode": {
    "name": "ipython",
    "version": 3
   },
   "file_extension": ".py",
   "mimetype": "text/x-python",
   "name": "python",
   "nbconvert_exporter": "python",
   "pygments_lexer": "ipython3",
   "version": "3.7.5"
  }
 },
 "nbformat": 4,
 "nbformat_minor": 4
}
