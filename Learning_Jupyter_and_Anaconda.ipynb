{
 "cells": [
  {
   "cell_type": "markdown",
   "metadata": {
    "slideshow": {
     "slide_type": "slide"
    }
   },
   "source": [
    "### This is for Link\n",
    "[Google](www.google.com)"
   ]
  },
  {
   "cell_type": "markdown",
   "metadata": {
    "slideshow": {
     "slide_type": "slide"
    }
   },
   "source": [
    "### This is for Lists\n",
    "\n",
    "- hi\n",
    "+ hi\n",
    "* hi"
   ]
  },
  {
   "cell_type": "markdown",
   "metadata": {
    "slideshow": {
     "slide_type": "subslide"
    }
   },
   "source": [
    "### This for Various Types of Heading\n",
    "\n",
    "# Hi\n",
    "## Hi\n",
    "### HI\n",
    "#### Hi\n",
    "##### Hi\n",
    "###### Hi"
   ]
  },
  {
   "cell_type": "markdown",
   "metadata": {
    "slideshow": {
     "slide_type": "fragment"
    }
   },
   "source": [
    "### This is for Emphasis (Italics and Bold)\n",
    "- _test_ *test*\n",
    "- __test__ **test**"
   ]
  },
  {
   "cell_type": "code",
   "execution_count": 7,
   "metadata": {},
   "outputs": [],
   "source": [
    "                ## This involves starting your code with text. The comment has to be indented too         \n",
    "                import requests\n",
    "                response = requests.get('https://www.udacity.com')"
   ]
  },
  {
   "cell_type": "markdown",
   "metadata": {},
   "source": [
    "### Math expressions\n",
    "\n",
    "You can create math expressions in Markdown cells using LaTeX symbols. Notebooks use MathJax to render the LaTeX symbols as math symbols. To start math mode, wrap the LaTeX in dollar signs __$y = mx + b$__ for inline math.\n",
    "For a math block, use double dollar signs:\n",
    "\n",
    "$$\n",
    "y = \\frac{a}{b+c}\n",
    "$$\n",
    "\n",
    "to create a fraction, we have \\frac for example 8/3: \n",
    "\n",
    "$\\frac{8}{3}$ \n",
    "\n",
    "or\n",
    "\n",
    "$$\n",
    "\\frac{8}{3}\n",
    "$$\n",
    "\n",
    "$\\Latex$\n",
    "\n",
    "\\*literal asterisks\\*\n",
    "\n",
    "$\\widehat{AAA}$\n",
    "\n",
    "$\\sqrt{abc}$"
   ]
  },
  {
   "cell_type": "markdown",
   "metadata": {},
   "source": [
    "### Magic keywords\n",
    "\n",
    "Magic keywords are special commands you can run in cells that let you control the notebook itself or perform system calls such as changing directories. For example, you can set up matplotlib to work interactively in the notebook with *%matplotlib*.\n",
    "\n",
    "Magic commands are preceded with one or two percent signs (% or %%) for line magics and cell magics, respectively. Line magics apply only to the line the magic command is written on, while cell magics apply to the whole cell.\n",
    "\n",
    "**NOTE:** These magic keywords are specific to the normal Python kernel. If you are using other kernels, these most likely won't work.\n",
    "\n",
    "Timing code\n",
    "At some point, you'll probably spend some effort optimizing code to run faster. Timing how quickly your code runs is essential for this optimization. You can use the timeit magic command to time how long it takes for a function to run.\n",
    "\n",
    "If you want to time how long it takes for a whole cell to run, you’d use %%timeit.\n",
    "\n"
   ]
  },
  {
   "cell_type": "markdown",
   "metadata": {},
   "source": [
    "### Embedding visualizations in notebooks\n",
    "As mentioned before, notebooks let you embed images along with text and code. This is most useful when you’re using matplotlib or other plotting packages to create visualizations. You can use %matplotlib to set up matplotlib for interactive use in the notebook. By default figures will render in their own window. However, you can pass arguments to the command to select a specific \"backend\", the software that renders the image. To render figures directly in the notebook, you should use the inline backend with the command %matplotlib inline.\n",
    "\n",
    "**Tip:** On higher resolution screens such as Retina displays, the default images in notebooks can look blurry. Use %config InlineBackend.figure_format = 'retina' after %matplotlib inline to render higher resolution images as in:\n",
    "\n",
    " %matplotlib inline\n",
    " %config InlineBackend.figure_format = 'retina'"
   ]
  },
  {
   "cell_type": "markdown",
   "metadata": {},
   "source": [
    "### Debugging in the Notebook\n",
    "With the Python kernel, you can turn on the interactive debugger using the magic command %pdb (example in the cell below). When you cause an error, you'll be able to inspect the variables in the current namespace."
   ]
  },
  {
   "cell_type": "code",
   "execution_count": 13,
   "metadata": {},
   "outputs": [
    {
     "name": "stdout",
     "output_type": "stream",
     "text": [
      "Automatic pdb calling has been turned ON\n"
     ]
    }
   ],
   "source": [
    "%pdb"
   ]
  },
  {
   "cell_type": "markdown",
   "metadata": {},
   "source": [
    "### Converting notebooks\n",
    "Notebooks are just big JSON files with the extension .ipynb. Since notebooks are JSON, it is simple to convert them to other formats. Jupyter comes with a utility called nbconvert for converting to HTML, Markdown, slideshows, etc.\n",
    "\n",
    "For example, to convert a notebook to an HTML file, in your terminal use: *jupyter nbconvert --to html notebook.ipynb*\n",
    "\n",
    "Converting to HTML is useful for sharing your notebooks with others who aren't using notebooks. Markdown is great for including a notebook in blogs and other text editors that accept Markdown formatting.\n",
    "\n",
    "As always, learn more about nbconvert from the [documentation](https://nbconvert.readthedocs.io/en/latest/usage.html).\n"
   ]
  },
  {
   "cell_type": "markdown",
   "metadata": {},
   "source": [
    "### Creating a slideshow\n",
    "The slides are created in notebooks like normal, but you'll need to designate which cells are slides and the type of slide the cell will be. In the menu bar, click View > Cell Toolbar > Slideshow to bring up the slide cell menu on each cell. This will show a menu dropdown on each cell that lets you choose how the cell shows up in the slideshow.\n",
    "\n",
    "**Slides** are full slides that you move through left to right. **Sub-slides** show up in the slideshow by pressing up or down. **Fragments** are hidden at first, then appear with a button press. You can skip cells in the slideshow with **Skip** and **Notes** leaves the cell as speaker notes.\n",
    "\n",
    "\n",
    "### Running the slideshow\n",
    "To create the slideshow from the notebook file, you'll need to use nbconvert:\n",
    "\n",
    "    **jupyter nbconvert notebook.ipynb --to slides**\n",
    "    \n",
    "This just converts the notebook to the necessary files for the slideshow, but you need to serve it with an HTTP server to actually see the presentation.\n",
    "\n",
    "To convert it and immediately see it, use\n",
    "\n",
    "**jupyter nbconvert notebook.ipynb --to slides --post serve**\n",
    "\n",
    "This will open up the slideshow in your browser so you can present it."
   ]
  },
  {
   "cell_type": "code",
   "execution_count": null,
   "metadata": {},
   "outputs": [],
   "source": []
  }
 ],
 "metadata": {
  "celltoolbar": "Slideshow",
  "kernelspec": {
   "display_name": "Python 3",
   "language": "python",
   "name": "python3"
  },
  "language_info": {
   "codemirror_mode": {
    "name": "ipython",
    "version": 3
   },
   "file_extension": ".py",
   "mimetype": "text/x-python",
   "name": "python",
   "nbconvert_exporter": "python",
   "pygments_lexer": "ipython3",
   "version": "3.7.5"
  }
 },
 "nbformat": 4,
 "nbformat_minor": 4
}
