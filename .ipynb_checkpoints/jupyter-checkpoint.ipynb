{
 "cells": [
  {
   "cell_type": "markdown",
   "metadata": {},
   "source": [
    "# Jupyter Notebook\n",
    "\n",
    "These relatively brief notes contain an overview of the Jupyter Notebook environment, and include the content that was coded live in class on Wednesday, 1/24.  Because much of the tutorial regarding the notebook is not well suited to static presentation on web pages, it is recommended that you watch the video lecture and follow along in the notebook, rather than solely rely on these notes.  In addition, unlike the majority of the notes for this class (which are written in Jupyter Notebook, but then exported to Markdown for presentation on the class website), I am going to leave these notes in Jupyter notebook form, to emphasize the fact that you can download and step through the examples here. "
   ]
  },
  {
   "cell_type": "markdown",
   "metadata": {},
   "source": [
    "## Overview of Jupyter Notebook\n",
    "\n",
    "Jupyter Notebook is a browser-based coding environment, used extensively for prototyping and interactive development in data science applications.  Jupyter Notebook is an evolution of an older project called the IPython Noteboook (this is the origin of the notebook file extension \".ipynb\"), and while (as the name suggests) Jupyter Notebook supports languages other than Python, at the current time Python is by far the most common language for these notebook.  General information about Jupyter Notebook and related projects can be found at the [Jupyter project page](http://jupyter.org).\n",
    "\n",
    "The central unit within a Jupyter Notebook are \"cells\".  These cells can be either contain code or Markdown (a simple formatting language, which can also include things like LaTeX equations).  The dropdown menu at the top of the screen indicates the type of the current cell.  \n",
    "\n",
    "Code cells can be executed by pressing the &#9654;&#10074; button at the top of the notebook, or more commonly via the commands Shift-Enter (execute and move to the next cell) or Control-Enter (execute and stay on that cell).  All Python code is executed in a single running Python environment, called the \"Kernel\" in Jupyter notebook.  Variables are shared across all cells, and the code is executed in the order in which the cells are run (not necessarily sequential in the notebook), which can get your notebook into rather confusing states if you don't always execute cells in order.\n",
    "\n",
    "Let's look at a a few examples."
   ]
  },
  {
   "cell_type": "code",
   "execution_count": 1,
   "metadata": {},
   "outputs": [
    {
     "data": {
      "text/plain": [
       "3"
      ]
     },
     "execution_count": 1,
     "metadata": {},
     "output_type": "execute_result"
    }
   ],
   "source": [
    "1+2"
   ]
  },
  {
   "cell_type": "code",
   "execution_count": 2,
   "metadata": {},
   "outputs": [],
   "source": [
    "a = 1.0\n",
    "b = 2.0"
   ]
  },
  {
   "cell_type": "code",
   "execution_count": 3,
   "metadata": {},
   "outputs": [
    {
     "name": "stdout",
     "output_type": "stream",
     "text": [
      "1.0\n"
     ]
    },
    {
     "data": {
      "text/plain": [
       "2.0"
      ]
     },
     "execution_count": 3,
     "metadata": {},
     "output_type": "execute_result"
    }
   ],
   "source": [
    "print(a)\n",
    "b"
   ]
  },
  {
   "cell_type": "code",
   "execution_count": 4,
   "metadata": {},
   "outputs": [
    {
     "name": "stdout",
     "output_type": "stream",
     "text": [
      "0\n",
      "1\n",
      "2\n",
      "3\n",
      "4\n",
      "5\n",
      "6\n",
      "7\n",
      "8\n",
      "9\n"
     ]
    }
   ],
   "source": [
    "for i in range(10):\n",
    "    print(i)"
   ]
  },
  {
   "cell_type": "markdown",
   "metadata": {},
   "source": [
    "Any `print` statements will print to the output section for the cell, and the output will also contain the string representation of the object returned by the last line in the cell.  Thus, in the above setting where the variable `b` appears on the last line of the cell, its content is printed at the end of the cell output, following any previous print statements that happen before.\n",
    "\n",
    "Any Python code will be valid in these cells, so we can import external libraries, defines classes, and functions, etc."
   ]
  },
  {
   "cell_type": "code",
   "execution_count": 5,
   "metadata": {},
   "outputs": [],
   "source": [
    "import requests"
   ]
  },
  {
   "cell_type": "code",
   "execution_count": 6,
   "metadata": {},
   "outputs": [],
   "source": [
    "def square(x):\n",
    "    \"\"\"Square the input x\"\"\"\n",
    "    return x*x"
   ]
  },
  {
   "cell_type": "code",
   "execution_count": 7,
   "metadata": {},
   "outputs": [
    {
     "data": {
      "text/plain": [
       "16"
      ]
     },
     "execution_count": 7,
     "metadata": {},
     "output_type": "execute_result"
    }
   ],
   "source": [
    "square(4)"
   ]
  },
  {
   "cell_type": "markdown",
   "metadata": {},
   "source": [
    "### Efficient navigation in the notebook\n",
    "\n",
    "Because you'll be spending a lot of timing writing code in the notebook, it helps to become at least a little bit familiar with the features of the editor.  While the notebook in many ways makes a poor actual code editing environment (compared to more fully featured editors ranging from Sublime, vi, Emacs, Atom, etc), it's not that bad if you familiarize yourself with some of the keyboard shortcuts.\n",
    "\n",
    "You can look up all the keyboard shortcuts (in addition to adding your own) in the \"Help -> Keyboard Shortcuts\" menu, but some of the more common ones I use are the following.  First, though, it is important to distinguish between the \"edit mode\" (when directly editing a cell) and \"command mode\" (navigating over cells).  You can switch between these using \"ESC\" or \"Ctrl-M\" (switch to command mode) and \"Enter\" (switch to edit more).\n",
    "\n",
    "Common keyboard shortcuts in command mode:\n",
    "- \"x\": delete a cell (though be careful, because you can only undo the deletion of one cell)\n",
    "- \"a\": insert new cell above\n",
    "- \"b\": insert new cell below\n",
    "- \"m\": convert cell to Markdown\n",
    "- \"y\": convert cell to code\n",
    "- Up/down: navigate up and down over cells\n",
    "- Shift-Enter, Ctrl-Enter: execute cell (also works in edit mode)\n",
    "\n",
    "Common shortcuts in edit mode:\n",
    "- Ctrl-up/Ctrl-down: move to start/end of cell\n",
    "- Tab: indent selected area (when text is selected) or autocomplete (when editing in the middle of a line)\n",
    "- Shift-Tab: unindent selected area (when text is selected), get function help (when following a function name)\n",
    "- Command-/: toggle comment/uncommand selected region\n",
    "\n",
    "The best way to familiarize yourself with these commands is to try to use the notebook entirely without using the mouse.  In practice, you'll often rely on the mouse for some things (for instance, I prefer to have commands like restarting the kernel require a mouse click), but trying to avoid it for some time will get you familiar enough with the common commands to be fairly productive in the Notebook editing environment."
   ]
  },
  {
   "cell_type": "markdown",
   "metadata": {},
   "source": [
    "### Getting help\n",
    "\n",
    "This was touched upon in the previous list of commands, but is important enough to warrant further discussion.  One of the nicer elements of the notebook editor is it's built-in support for code autocompletion and function lookup.  After writing some portion of code, you can press the \"tab\" key to autocomplete: if there is only one viable completion of the word you are currently typing, it will simply complete the word.  If there are multiple viable predictions, then it will open a popup menu where you can view all possible completions.  The later is useful for quickly browsing through all functions or variables in a library/object.\n",
    "\n",
    "The second useful command is the inline help popup.  After typing a function name, you can get help for that function by pressing \"Shift-Tab\".  This will bring up a popup with a brief description of the function.  If you want additional help, it may be available for some functions by clicking the &#8963; button in the top right of the help popup."
   ]
  },
  {
   "cell_type": "markdown",
   "metadata": {},
   "source": [
    "### Cell magics\n",
    "\n",
    "In addition to running Python code, the Jupyter Notebook has some built-in routines for performing operations outside of Python, timing or analyzing code runs, etc.  These \"cell magics\" are prefaced by `%` (at the beginning of a line ... this is technically called a \"line magic\", but I usually see both cases referred to as cell magics) for single-line magics and `%%` at the beginning of a cell for whole-cell magics.  We won't cover very many of these, but some are very useful and so you should be familiar with the basics.  A much more exhaustive list of cell magics is here: [Built-in cell magics](http://ipython.readthedocs.io/en/stable/interactive/magics.html).\n",
    "\n",
    "- Time operations with `%timeit` (for single line), `%%timeit` (for the whole cell).  This command will run the line or cell _multiple_ times and provide average timing.  It is adaptive, so that operations that take less time are run more often, so as to provide a better estimate of the run time (thus, the time it takes to run run this command is not indicative of the actual time it takes to run the code.  If you want to just time a single pass, using `%time` or `%%time`."
   ]
  },
  {
   "cell_type": "code",
   "execution_count": 24,
   "metadata": {},
   "outputs": [
    {
     "name": "stdout",
     "output_type": "stream",
     "text": [
      "Wall time: 10 ms\n"
     ]
    },
    {
     "data": {
      "text/plain": [
       "333283335000"
      ]
     },
     "execution_count": 24,
     "metadata": {},
     "output_type": "execute_result"
    }
   ],
   "source": [
    "%time sum(x**2 for x in range(10000))"
   ]
  },
  {
   "cell_type": "markdown",
   "metadata": {},
   "source": [
    "- Execute bash commands with `%%bash`.  Use this very sparingly, as it effectively executes shell commands outside the actual notebook environment, and makes the notebook potentially platform-dependent."
   ]
  },
  {
   "cell_type": "code",
   "execution_count": 25,
   "metadata": {},
   "outputs": [
    {
     "name": "stdout",
     "output_type": "stream",
     "text": [
      "Couldn't find program: 'bash'\n"
     ]
    }
   ],
   "source": [
    "%%bash \n",
    "ls ##from the line/cell magic list below, %%bash doesn't exist"
   ]
  },
  {
   "cell_type": "code",
   "execution_count": 26,
   "metadata": {},
   "outputs": [
    {
     "data": {
      "application/json": {
       "cell": {
        "!": "OSMagics",
        "HTML": "Other",
        "SVG": "Other",
        "bash": "Other",
        "capture": "ExecutionMagics",
        "cmd": "Other",
        "debug": "ExecutionMagics",
        "file": "Other",
        "html": "DisplayMagics",
        "javascript": "DisplayMagics",
        "js": "DisplayMagics",
        "latex": "DisplayMagics",
        "markdown": "DisplayMagics",
        "perl": "Other",
        "prun": "ExecutionMagics",
        "pypy": "Other",
        "python": "Other",
        "python2": "Other",
        "python3": "Other",
        "ruby": "Other",
        "script": "ScriptMagics",
        "sh": "Other",
        "svg": "DisplayMagics",
        "sx": "OSMagics",
        "system": "OSMagics",
        "time": "ExecutionMagics",
        "timeit": "ExecutionMagics",
        "writefile": "OSMagics"
       },
       "line": {
        "alias": "OSMagics",
        "alias_magic": "BasicMagics",
        "autoawait": "AsyncMagics",
        "autocall": "AutoMagics",
        "automagic": "AutoMagics",
        "autosave": "KernelMagics",
        "bookmark": "OSMagics",
        "cd": "OSMagics",
        "clear": "KernelMagics",
        "cls": "KernelMagics",
        "colors": "BasicMagics",
        "conda": "PackagingMagics",
        "config": "ConfigMagics",
        "connect_info": "KernelMagics",
        "copy": "Other",
        "ddir": "Other",
        "debug": "ExecutionMagics",
        "dhist": "OSMagics",
        "dirs": "OSMagics",
        "doctest_mode": "BasicMagics",
        "echo": "Other",
        "ed": "Other",
        "edit": "KernelMagics",
        "env": "OSMagics",
        "gui": "BasicMagics",
        "hist": "Other",
        "history": "HistoryMagics",
        "killbgscripts": "ScriptMagics",
        "ldir": "Other",
        "less": "KernelMagics",
        "load": "CodeMagics",
        "load_ext": "ExtensionMagics",
        "loadpy": "CodeMagics",
        "logoff": "LoggingMagics",
        "logon": "LoggingMagics",
        "logstart": "LoggingMagics",
        "logstate": "LoggingMagics",
        "logstop": "LoggingMagics",
        "ls": "Other",
        "lsmagic": "BasicMagics",
        "macro": "ExecutionMagics",
        "magic": "BasicMagics",
        "matplotlib": "PylabMagics",
        "mkdir": "Other",
        "more": "KernelMagics",
        "notebook": "BasicMagics",
        "page": "BasicMagics",
        "pastebin": "CodeMagics",
        "pdb": "ExecutionMagics",
        "pdef": "NamespaceMagics",
        "pdoc": "NamespaceMagics",
        "pfile": "NamespaceMagics",
        "pinfo": "NamespaceMagics",
        "pinfo2": "NamespaceMagics",
        "pip": "PackagingMagics",
        "popd": "OSMagics",
        "pprint": "BasicMagics",
        "precision": "BasicMagics",
        "prun": "ExecutionMagics",
        "psearch": "NamespaceMagics",
        "psource": "NamespaceMagics",
        "pushd": "OSMagics",
        "pwd": "OSMagics",
        "pycat": "OSMagics",
        "pylab": "PylabMagics",
        "qtconsole": "KernelMagics",
        "quickref": "BasicMagics",
        "recall": "HistoryMagics",
        "rehashx": "OSMagics",
        "reload_ext": "ExtensionMagics",
        "ren": "Other",
        "rep": "Other",
        "rerun": "HistoryMagics",
        "reset": "NamespaceMagics",
        "reset_selective": "NamespaceMagics",
        "rmdir": "Other",
        "run": "ExecutionMagics",
        "save": "CodeMagics",
        "sc": "OSMagics",
        "set_env": "OSMagics",
        "store": "StoreMagics",
        "sx": "OSMagics",
        "system": "OSMagics",
        "tb": "ExecutionMagics",
        "time": "ExecutionMagics",
        "timeit": "ExecutionMagics",
        "unalias": "OSMagics",
        "unload_ext": "ExtensionMagics",
        "who": "NamespaceMagics",
        "who_ls": "NamespaceMagics",
        "whos": "NamespaceMagics",
        "xdel": "NamespaceMagics",
        "xmode": "BasicMagics"
       }
      },
      "text/plain": [
       "Available line magics:\n",
       "%alias  %alias_magic  %autoawait  %autocall  %automagic  %autosave  %bookmark  %cd  %clear  %cls  %colors  %conda  %config  %connect_info  %copy  %ddir  %debug  %dhist  %dirs  %doctest_mode  %echo  %ed  %edit  %env  %gui  %hist  %history  %killbgscripts  %ldir  %less  %load  %load_ext  %loadpy  %logoff  %logon  %logstart  %logstate  %logstop  %ls  %lsmagic  %macro  %magic  %matplotlib  %mkdir  %more  %notebook  %page  %pastebin  %pdb  %pdef  %pdoc  %pfile  %pinfo  %pinfo2  %pip  %popd  %pprint  %precision  %prun  %psearch  %psource  %pushd  %pwd  %pycat  %pylab  %qtconsole  %quickref  %recall  %rehashx  %reload_ext  %ren  %rep  %rerun  %reset  %reset_selective  %rmdir  %run  %save  %sc  %set_env  %store  %sx  %system  %tb  %time  %timeit  %unalias  %unload_ext  %who  %who_ls  %whos  %xdel  %xmode\n",
       "\n",
       "Available cell magics:\n",
       "%%!  %%HTML  %%SVG  %%bash  %%capture  %%cmd  %%debug  %%file  %%html  %%javascript  %%js  %%latex  %%markdown  %%perl  %%prun  %%pypy  %%python  %%python2  %%python3  %%ruby  %%script  %%sh  %%svg  %%sx  %%system  %%time  %%timeit  %%writefile\n",
       "\n",
       "Automagic is ON, % prefix IS NOT needed for line magics."
      ]
     },
     "execution_count": 26,
     "metadata": {},
     "output_type": "execute_result"
    }
   ],
   "source": [
    "%lsmagic ##to find the available line/cell magic available"
   ]
  },
  {
   "cell_type": "markdown",
   "metadata": {},
   "source": [
    "- Profile a function line-by-line with line profiler (may require that you install the necessary pip packages depending on whether it's included in your distribution or not).  Note that we need to call the additional magic command `%load_ext` to load this extension."
   ]
  },
  {
   "cell_type": "code",
   "execution_count": 36,
   "metadata": {},
   "outputs": [],
   "source": [
    "%load_ext line_profiler"
   ]
  },
  {
   "cell_type": "code",
   "execution_count": 37,
   "metadata": {},
   "outputs": [
    {
     "name": "stdout",
     "output_type": "stream",
     "text": [
      "332833500\n",
      "2499500025000000\n"
     ]
    }
   ],
   "source": [
    "def function_to_profile():\n",
    "    print(sum(x**2 for x in range(1000)))\n",
    "    print(sum(x**3 for x in range(10000)))\n",
    "    \n",
    "%lprun -f function_to_profile function_to_profile()"
   ]
  },
  {
   "cell_type": "markdown",
   "metadata": {},
   "source": [
    "## Python-specific features for Practical Data Science\n",
    "\n",
    "In the remainder of this notebook (which as you go through it, should serve both as an illustration of some concepts in the Notebook, and a brief highlight of some of the relevant Python concepts we'll use frequently throughout this course.  Importantly, these notes are not meant to be a general tutorial on Python, which you are already expected to be familiar with.  If any of the basic Python concepts here seem difficult, we recommend you consult a standard [Python Tutorial](https://docs.python.org/3/tutorial/).  \n",
    "\n",
    "The most common \"built in\" data types you will interact with when doing data science work at lists and dictionaries (there are of course additional types like Numpy Arrays, Pandas Dataframes, and others, but these are provided by external libraries).  It's good to have a brief understanding of how to use these data structures effectively."
   ]
  },
  {
   "cell_type": "markdown",
   "metadata": {},
   "source": [
    "### Lists\n",
    "\n",
    "Lists are denoted by items within square brackets."
   ]
  },
  {
   "cell_type": "code",
   "execution_count": 22,
   "metadata": {},
   "outputs": [],
   "source": [
    "list1 = [\"a\", \"b\", \"c\", \"d\"]\n",
    "list2 = [1, 2, 3, \"4\", [1,2]]"
   ]
  },
  {
   "cell_type": "markdown",
   "metadata": {},
   "source": [
    "Items within a list can be accessed via several types of indexing: indexing to a given element, negative indexing (backward from the end of a list), and slice-based indexing that returns subsets of the list."
   ]
  },
  {
   "cell_type": "code",
   "execution_count": 23,
   "metadata": {},
   "outputs": [
    {
     "name": "stdout",
     "output_type": "stream",
     "text": [
      "a\n",
      "d\n",
      "['b']\n",
      "['a', 'c']\n",
      "a\n",
      "b\n",
      "c\n",
      "d\n"
     ]
    }
   ],
   "source": [
    "print(list1[0])\n",
    "print(list1[-1])\n",
    "print(list1[1:2])\n",
    "print(list1[0:4:2])\n",
    "for a in list1:\n",
    "    print(a)"
   ]
  },
  {
   "cell_type": "markdown",
   "metadata": {},
   "source": [
    "### List comprehensions\n",
    "\n",
    "One slightly less well-known construct that I use extremely frequently (so it may come up in both sample code and homework code), is the list comprehension.  Briefly, this a method for constructing a list by iterating over another list.  Let's suppose we wanted to create a `list3` object that included every element from `list1`, but with an underscore after each string.  We could do it by explicitly constructing the list and adding each element, like so."
   ]
  },
  {
   "cell_type": "code",
   "execution_count": 32,
   "metadata": {},
   "outputs": [
    {
     "data": {
      "text/plain": [
       "['a_', 'b_', 'c_', 'd_']"
      ]
     },
     "execution_count": 32,
     "metadata": {},
     "output_type": "execute_result"
    }
   ],
   "source": [
    "list3 = []\n",
    "for x in list1:\n",
    "    list3.append(x + \"_\")\n",
    "list3"
   ]
  },
  {
   "cell_type": "markdown",
   "metadata": {},
   "source": [
    "However, this quickly gets verbose, if we want to create several new lists this way.  We could get this same result through a list comprehension, which has the syntax `[some_expression(item) for item in list]`, and returns a new list by applying `some_expression` (not necessarily an actual function, just some expression that involves `item`) to each element of the list."
   ]
  },
  {
   "cell_type": "code",
   "execution_count": 33,
   "metadata": {},
   "outputs": [
    {
     "data": {
      "text/plain": [
       "['a_', 'b_', 'c_', 'd_']"
      ]
     },
     "execution_count": 33,
     "metadata": {},
     "output_type": "execute_result"
    }
   ],
   "source": [
    "list3 = [x + \"_\" for x in list1]\n",
    "list3"
   ]
  },
  {
   "cell_type": "markdown",
   "metadata": {},
   "source": [
    "As a slightly more complex example, let's use list comprehensions to count the number of words in a file.  The \"shakespeare.txt\" file included with this notebook contains test for all the collected works of Shakespeare.  Let's first read all the lines of Shakespeare into a file."
   ]
  },
  {
   "cell_type": "code",
   "execution_count": 34,
   "metadata": {},
   "outputs": [],
   "source": [
    "with open(\"shakespeare.txt\") as f:\n",
    "    lines = f.readlines()"
   ]
  },
  {
   "cell_type": "markdown",
   "metadata": {
    "collapsed": true
   },
   "source": [
    "Now let's use a list comprehension to count the number of words in each line (given by `len(line.split())`, which splits the line by the space character), and then compute the sum of this whole list."
   ]
  },
  {
   "cell_type": "code",
   "execution_count": 35,
   "metadata": {},
   "outputs": [
    {
     "data": {
      "text/plain": [
       "815988"
      ]
     },
     "execution_count": 35,
     "metadata": {},
     "output_type": "execute_result"
    }
   ],
   "source": [
    "sum([len(line.split(\" \")) for line in lines])"
   ]
  },
  {
   "cell_type": "markdown",
   "metadata": {},
   "source": [
    "As a final node, if our only goal is to sum up the total number of words (rather than explicitly create the list containing the number of words in each line), we can omit the brackets from the call above, which creates what is called a _generator expression_.  This is like a list comprehension except that it doesn't actually instantiate the new list: it simply generates each element one at a time and (in this case) passes each to the `sum()` function."
   ]
  },
  {
   "cell_type": "code",
   "execution_count": 19,
   "metadata": {},
   "outputs": [
    {
     "data": {
      "text/plain": [
       "815988"
      ]
     },
     "execution_count": 19,
     "metadata": {},
     "output_type": "execute_result"
    }
   ],
   "source": [
    "sum(len(line.split(\" \")) for line in lines)"
   ]
  },
  {
   "cell_type": "markdown",
   "metadata": {},
   "source": [
    "### List implmentation internals\n",
    "\n",
    "As a final note about lists, it is important for creating efficient Python code to understand a little bit about the nature of how lists are implemented internally.  Python lists are not really \"lists\" in the typical CS sense of the word, i.e., they are not linked lists or some structure like this.  Instead, a Python list is really a _dynamically sized array_.  That is, a list is an array of fixed-size elements (more precisely, it is an array of abstract \"Python Object\" elements, which in turn point to numbers, strings, other arrays, etc, while having the actual array elements in the list be fixed size).  The arrays are pre-allocated to have a certain amount of \"extra elements\" that can be used to add new items to the list; if we want to append a new item to the list, and do not have enough room in the underlying array, it is resized with some additional buffer (for example, the underlying size could be doubled ... though in reality Python uses a slightly more involved growth algorithm than just doubling each time) to allow for the additional elements.  Because this resizing happens relatively infrequently, it does not cost much from a computational perspective.  Put in big O notation, the following operations are lists are all constant time:\n",
    "\n",
    "- Append: O(1) (average case)\n",
    "- Lookup: O(1)\n",
    "- Delete last element: O(1)\n",
    "\n",
    "On the other hand, if you attempt to insert a new element somewhere in the middle of the list (shifting down later element), or delete an item in the middle of the list (shifting up later elements), these operations are expensive, because we need to copy every single item in the list after the inserted or deleted item, and move it in memory.  In big O notation, the following operations take linear time:\n",
    "\n",
    "- Insert element at arbitrary position: O(n)\n",
    "- Delete element at arbitrary position: O(n)\n",
    "\n",
    "As an illustration of this, let's consider two versions of code that creates an array, either by appending or inserting (at the beginning of the list) new elements:"
   ]
  },
  {
   "cell_type": "code",
   "execution_count": 20,
   "metadata": {},
   "outputs": [
    {
     "name": "stdout",
     "output_type": "stream",
     "text": [
      "816 ms ± 2.04 ms per loop (mean ± std. dev. of 7 runs, 1 loop each)\n"
     ]
    }
   ],
   "source": [
    "%%timeit\n",
    "all_words = []\n",
    "for line in lines[:10000]:\n",
    "    for word in line.split():\n",
    "        all_words.insert(0, word)"
   ]
  },
  {
   "cell_type": "code",
   "execution_count": 21,
   "metadata": {},
   "outputs": [
    {
     "name": "stdout",
     "output_type": "stream",
     "text": [
      "7.09 ms ± 27 µs per loop (mean ± std. dev. of 7 runs, 100 loops each)\n"
     ]
    }
   ],
   "source": [
    "%%timeit\n",
    "all_words = []\n",
    "for line in lines[:10000]:\n",
    "    for word in line.split():\n",
    "        all_words.append(word)"
   ]
  },
  {
   "cell_type": "markdown",
   "metadata": {},
   "source": [
    "The second version is about 100x faster than the first.  This type of speed difference can be crucial when you write data processing loops.\n",
    "\n",
    "A good page with further explanation about the internals of Python lists here (more technical than you need for this class certainly, but for those who are curious): [Python list implementation](https://www.laurentluce.com/posts/python-list-implementation/)."
   ]
  },
  {
   "cell_type": "markdown",
   "metadata": {},
   "source": [
    "### Dictionaries\n",
    "\n",
    "The next main built in data type you'll use in data science is the dictionary.  Dictionaries are mappings from keys to values, where keys can be any \"immutable\" Python type (most commonly strings, numbers, booleans, tuples ... but importantly _not_ lists or other dictionaries), and values can be any python type (including lists or dictionaries).\n",
    "\n",
    "Dictionaries can be created with curly brackets, like the following:"
   ]
  },
  {
   "cell_type": "code",
   "execution_count": 22,
   "metadata": {},
   "outputs": [],
   "source": [
    "dict1 = {\"a\":1, \"b\":2, \"c\":3}"
   ]
  },
  {
   "cell_type": "markdown",
   "metadata": {},
   "source": [
    "And then elements are accessed by square brackets."
   ]
  },
  {
   "cell_type": "code",
   "execution_count": 23,
   "metadata": {},
   "outputs": [
    {
     "data": {
      "text/plain": [
       "1"
      ]
     },
     "execution_count": 23,
     "metadata": {},
     "output_type": "execute_result"
    }
   ],
   "source": [
    "dict1[\"a\"]"
   ]
  },
  {
   "cell_type": "markdown",
   "metadata": {},
   "source": [
    "Unlike lists, dictionaries can't be indexed by slices, or negative indexing, or anything like that.  The keys in a dictionary are treated as _unordered_, so there is no notion to sequence in the items of a dictionary.  We can use the same notation to assign new elements to the dictionary."
   ]
  },
  {
   "cell_type": "code",
   "execution_count": 24,
   "metadata": {},
   "outputs": [],
   "source": [
    "dict1[\"d\"] = 4"
   ]
  },
  {
   "cell_type": "markdown",
   "metadata": {},
   "source": [
    "Note that we can make this call even though `dict[\"d\"]` previously did not contain anything (and if we try to just execute this statement, it will throw an exception).  You can also check for a key belonging to a dictionary with the command:"
   ]
  },
  {
   "cell_type": "code",
   "execution_count": 25,
   "metadata": {},
   "outputs": [
    {
     "data": {
      "text/plain": [
       "True"
      ]
     },
     "execution_count": 25,
     "metadata": {},
     "output_type": "execute_result"
    }
   ],
   "source": [
    "\"a\" in dict1"
   ]
  },
  {
   "cell_type": "markdown",
   "metadata": {},
   "source": [
    "Finally, there is the analogue to list comprehensions: dictionary comprehensions.  These are specified similar to a list comprehension, but are denoted by the syntax `{key(item) : value(item) for item in list}`."
   ]
  },
  {
   "cell_type": "code",
   "execution_count": 26,
   "metadata": {},
   "outputs": [
    {
     "data": {
      "text/plain": [
       "{0: 0, 1: 1, 2: 4, 3: 9, 4: 16, 5: 25, 6: 36, 7: 49, 8: 64, 9: 81}"
      ]
     },
     "execution_count": 26,
     "metadata": {},
     "output_type": "execute_result"
    }
   ],
   "source": [
    "{i:i**2 for i in range(10)}"
   ]
  },
  {
   "cell_type": "markdown",
   "metadata": {},
   "source": [
    "### Dictionary internals\n",
    "\n",
    "Internally, dictionaries are represented using _hash tables_.  That is, the dictionary elements are all contained in a relatively small array.  When inserting a new element in the dictionary, we compute a _hash_ of the key, and modulo this number by the size of the array.  If that location in the underlying array is empty, we store the key/value pair at that index.  The the location is already with note _different_ element (which has to be possible, since there are more possible keys than the size of the underlying array) we execute what is called a \"probing strategy\" to find the next free slot.  The details of the hashing function and probing strategy aren't important (some info is on the page linked below), but the key portions are that the process is deterministic, so we can easily both assign elements and look up elements by key (similarly computing the hash and probing until the key at the location matches the key we are looking for ... note that this is why we need to store both the key _and_ value in the array).\n",
    "\n",
    "A good hash function will tend to generate \"random\" locations in the array, so there is a high probably we will find an empty slot without too many probing iterations.  In Python, once the array is 2/3 full, we double (or quadruple, for small-sized dictionaries) the size of the underlying array, and rebuild the hash table (which is required, since the location of different key/values pairs now changes for a different size of underlying array).  Just like with a list, although this rebuilding operation is slow, because it happens relatively infrequently, it does not end up costing too much time.  In big O notation, the operations of a dictionary all have (average case) constant time:\n",
    "\n",
    "- Insert new element: O(1)\n",
    "- Lookup element: O(1)\n",
    "- Delete element: O(1)\n",
    "\n",
    "More information about dictionary internals is here: [Python dictionary implementation](https://www.laurentluce.com/posts/python-dictionary-implementation/)"
   ]
  },
  {
   "cell_type": "markdown",
   "metadata": {},
   "source": [
    "### Classes\n",
    "\n",
    "Although this section will not describe it in any detail, it will also be necessary to be familiar with classes in Python.  We will just mention a few notes about classes here, using this example:"
   ]
  },
  {
   "cell_type": "code",
   "execution_count": 27,
   "metadata": {},
   "outputs": [
    {
     "data": {
      "text/plain": [
       "1"
      ]
     },
     "execution_count": 27,
     "metadata": {},
     "output_type": "execute_result"
    }
   ],
   "source": [
    "class MyClass:\n",
    "    def __init__(self, n):\n",
    "        self.n = n\n",
    "    \n",
    "    def get_n(self):\n",
    "        return self.n\n",
    "\n",
    "a = MyClass(1)\n",
    "a.get_n()"
   ]
  },
  {
   "cell_type": "markdown",
   "metadata": {},
   "source": [
    "The first note is that all functions within a Python class take an instance of that class as the first argument, usually named `self` in implementations (but it can be named anything).  Class methods and static methods (see the discussion in the list below) behave differently, but we won't be using those features much in this class.  The second thing of some importance is that unlike other object-oriented languages, Python does not actually have a distinction between \"public\" and \"private\" variables.  Although here it seems like the \"n\" variable should be private (inaccessible outside the class), and only accessible via the method `get_n()`, we can just as easily access it directly."
   ]
  },
  {
   "cell_type": "code",
   "execution_count": 28,
   "metadata": {},
   "outputs": [
    {
     "data": {
      "text/plain": [
       "1"
      ]
     },
     "execution_count": 28,
     "metadata": {},
     "output_type": "execute_result"
    }
   ],
   "source": [
    "a.n"
   ]
  },
  {
   "cell_type": "markdown",
   "metadata": {},
   "source": [
    "This means that Python doesn't really respect the traditional object-oriented abstractions (they are more just rules of thumb, that can be overridden by any code that wants to).  Be careful of this fact if you're used to classes in more structured languages like C++ or Java."
   ]
  },
  {
   "cell_type": "markdown",
   "metadata": {},
   "source": [
    "## Visualizations in notebook (preview)\n",
    "\n",
    "While we are going to have an entire lecture on visualization, much of which will come with examples on how to generate visualizations in the notebook, I want to give a quick preview here of how we can generate figures inline in the notebook.  The \"magic\" commands here are the following, first to import a relevant plotting library, then a cell magic command that instructs Jupyter to plot figures in the notebook."
   ]
  },
  {
   "cell_type": "code",
   "execution_count": 56,
   "metadata": {},
   "outputs": [],
   "source": [
    "import matplotlib.pyplot as plt\n",
    "%matplotlib notebook"
   ]
  },
  {
   "cell_type": "markdown",
   "metadata": {},
   "source": [
    "Now let's plot a simple sine wave (using `numpy`, which we'll also cover more later, but hopefully this notation is clear)."
   ]
  },
  {
   "cell_type": "code",
   "execution_count": 58,
   "metadata": {},
   "outputs": [
    {
     "data": {
      "application/javascript": [
       "/* Put everything inside the global mpl namespace */\n",
       "window.mpl = {};\n",
       "\n",
       "\n",
       "mpl.get_websocket_type = function() {\n",
       "    if (typeof(WebSocket) !== 'undefined') {\n",
       "        return WebSocket;\n",
       "    } else if (typeof(MozWebSocket) !== 'undefined') {\n",
       "        return MozWebSocket;\n",
       "    } else {\n",
       "        alert('Your browser does not have WebSocket support. ' +\n",
       "              'Please try Chrome, Safari or Firefox ≥ 6. ' +\n",
       "              'Firefox 4 and 5 are also supported but you ' +\n",
       "              'have to enable WebSockets in about:config.');\n",
       "    };\n",
       "}\n",
       "\n",
       "mpl.figure = function(figure_id, websocket, ondownload, parent_element) {\n",
       "    this.id = figure_id;\n",
       "\n",
       "    this.ws = websocket;\n",
       "\n",
       "    this.supports_binary = (this.ws.binaryType != undefined);\n",
       "\n",
       "    if (!this.supports_binary) {\n",
       "        var warnings = document.getElementById(\"mpl-warnings\");\n",
       "        if (warnings) {\n",
       "            warnings.style.display = 'block';\n",
       "            warnings.textContent = (\n",
       "                \"This browser does not support binary websocket messages. \" +\n",
       "                    \"Performance may be slow.\");\n",
       "        }\n",
       "    }\n",
       "\n",
       "    this.imageObj = new Image();\n",
       "\n",
       "    this.context = undefined;\n",
       "    this.message = undefined;\n",
       "    this.canvas = undefined;\n",
       "    this.rubberband_canvas = undefined;\n",
       "    this.rubberband_context = undefined;\n",
       "    this.format_dropdown = undefined;\n",
       "\n",
       "    this.image_mode = 'full';\n",
       "\n",
       "    this.root = $('<div/>');\n",
       "    this._root_extra_style(this.root)\n",
       "    this.root.attr('style', 'display: inline-block');\n",
       "\n",
       "    $(parent_element).append(this.root);\n",
       "\n",
       "    this._init_header(this);\n",
       "    this._init_canvas(this);\n",
       "    this._init_toolbar(this);\n",
       "\n",
       "    var fig = this;\n",
       "\n",
       "    this.waiting = false;\n",
       "\n",
       "    this.ws.onopen =  function () {\n",
       "            fig.send_message(\"supports_binary\", {value: fig.supports_binary});\n",
       "            fig.send_message(\"send_image_mode\", {});\n",
       "            if (mpl.ratio != 1) {\n",
       "                fig.send_message(\"set_dpi_ratio\", {'dpi_ratio': mpl.ratio});\n",
       "            }\n",
       "            fig.send_message(\"refresh\", {});\n",
       "        }\n",
       "\n",
       "    this.imageObj.onload = function() {\n",
       "            if (fig.image_mode == 'full') {\n",
       "                // Full images could contain transparency (where diff images\n",
       "                // almost always do), so we need to clear the canvas so that\n",
       "                // there is no ghosting.\n",
       "                fig.context.clearRect(0, 0, fig.canvas.width, fig.canvas.height);\n",
       "            }\n",
       "            fig.context.drawImage(fig.imageObj, 0, 0);\n",
       "        };\n",
       "\n",
       "    this.imageObj.onunload = function() {\n",
       "        fig.ws.close();\n",
       "    }\n",
       "\n",
       "    this.ws.onmessage = this._make_on_message_function(this);\n",
       "\n",
       "    this.ondownload = ondownload;\n",
       "}\n",
       "\n",
       "mpl.figure.prototype._init_header = function() {\n",
       "    var titlebar = $(\n",
       "        '<div class=\"ui-dialog-titlebar ui-widget-header ui-corner-all ' +\n",
       "        'ui-helper-clearfix\"/>');\n",
       "    var titletext = $(\n",
       "        '<div class=\"ui-dialog-title\" style=\"width: 100%; ' +\n",
       "        'text-align: center; padding: 3px;\"/>');\n",
       "    titlebar.append(titletext)\n",
       "    this.root.append(titlebar);\n",
       "    this.header = titletext[0];\n",
       "}\n",
       "\n",
       "\n",
       "\n",
       "mpl.figure.prototype._canvas_extra_style = function(canvas_div) {\n",
       "\n",
       "}\n",
       "\n",
       "\n",
       "mpl.figure.prototype._root_extra_style = function(canvas_div) {\n",
       "\n",
       "}\n",
       "\n",
       "mpl.figure.prototype._init_canvas = function() {\n",
       "    var fig = this;\n",
       "\n",
       "    var canvas_div = $('<div/>');\n",
       "\n",
       "    canvas_div.attr('style', 'position: relative; clear: both; outline: 0');\n",
       "\n",
       "    function canvas_keyboard_event(event) {\n",
       "        return fig.key_event(event, event['data']);\n",
       "    }\n",
       "\n",
       "    canvas_div.keydown('key_press', canvas_keyboard_event);\n",
       "    canvas_div.keyup('key_release', canvas_keyboard_event);\n",
       "    this.canvas_div = canvas_div\n",
       "    this._canvas_extra_style(canvas_div)\n",
       "    this.root.append(canvas_div);\n",
       "\n",
       "    var canvas = $('<canvas/>');\n",
       "    canvas.addClass('mpl-canvas');\n",
       "    canvas.attr('style', \"left: 0; top: 0; z-index: 0; outline: 0\")\n",
       "\n",
       "    this.canvas = canvas[0];\n",
       "    this.context = canvas[0].getContext(\"2d\");\n",
       "\n",
       "    var backingStore = this.context.backingStorePixelRatio ||\n",
       "\tthis.context.webkitBackingStorePixelRatio ||\n",
       "\tthis.context.mozBackingStorePixelRatio ||\n",
       "\tthis.context.msBackingStorePixelRatio ||\n",
       "\tthis.context.oBackingStorePixelRatio ||\n",
       "\tthis.context.backingStorePixelRatio || 1;\n",
       "\n",
       "    mpl.ratio = (window.devicePixelRatio || 1) / backingStore;\n",
       "\n",
       "    var rubberband = $('<canvas/>');\n",
       "    rubberband.attr('style', \"position: absolute; left: 0; top: 0; z-index: 1;\")\n",
       "\n",
       "    var pass_mouse_events = true;\n",
       "\n",
       "    canvas_div.resizable({\n",
       "        start: function(event, ui) {\n",
       "            pass_mouse_events = false;\n",
       "        },\n",
       "        resize: function(event, ui) {\n",
       "            fig.request_resize(ui.size.width, ui.size.height);\n",
       "        },\n",
       "        stop: function(event, ui) {\n",
       "            pass_mouse_events = true;\n",
       "            fig.request_resize(ui.size.width, ui.size.height);\n",
       "        },\n",
       "    });\n",
       "\n",
       "    function mouse_event_fn(event) {\n",
       "        if (pass_mouse_events)\n",
       "            return fig.mouse_event(event, event['data']);\n",
       "    }\n",
       "\n",
       "    rubberband.mousedown('button_press', mouse_event_fn);\n",
       "    rubberband.mouseup('button_release', mouse_event_fn);\n",
       "    // Throttle sequential mouse events to 1 every 20ms.\n",
       "    rubberband.mousemove('motion_notify', mouse_event_fn);\n",
       "\n",
       "    rubberband.mouseenter('figure_enter', mouse_event_fn);\n",
       "    rubberband.mouseleave('figure_leave', mouse_event_fn);\n",
       "\n",
       "    canvas_div.on(\"wheel\", function (event) {\n",
       "        event = event.originalEvent;\n",
       "        event['data'] = 'scroll'\n",
       "        if (event.deltaY < 0) {\n",
       "            event.step = 1;\n",
       "        } else {\n",
       "            event.step = -1;\n",
       "        }\n",
       "        mouse_event_fn(event);\n",
       "    });\n",
       "\n",
       "    canvas_div.append(canvas);\n",
       "    canvas_div.append(rubberband);\n",
       "\n",
       "    this.rubberband = rubberband;\n",
       "    this.rubberband_canvas = rubberband[0];\n",
       "    this.rubberband_context = rubberband[0].getContext(\"2d\");\n",
       "    this.rubberband_context.strokeStyle = \"#000000\";\n",
       "\n",
       "    this._resize_canvas = function(width, height) {\n",
       "        // Keep the size of the canvas, canvas container, and rubber band\n",
       "        // canvas in synch.\n",
       "        canvas_div.css('width', width)\n",
       "        canvas_div.css('height', height)\n",
       "\n",
       "        canvas.attr('width', width * mpl.ratio);\n",
       "        canvas.attr('height', height * mpl.ratio);\n",
       "        canvas.attr('style', 'width: ' + width + 'px; height: ' + height + 'px;');\n",
       "\n",
       "        rubberband.attr('width', width);\n",
       "        rubberband.attr('height', height);\n",
       "    }\n",
       "\n",
       "    // Set the figure to an initial 600x600px, this will subsequently be updated\n",
       "    // upon first draw.\n",
       "    this._resize_canvas(600, 600);\n",
       "\n",
       "    // Disable right mouse context menu.\n",
       "    $(this.rubberband_canvas).bind(\"contextmenu\",function(e){\n",
       "        return false;\n",
       "    });\n",
       "\n",
       "    function set_focus () {\n",
       "        canvas.focus();\n",
       "        canvas_div.focus();\n",
       "    }\n",
       "\n",
       "    window.setTimeout(set_focus, 100);\n",
       "}\n",
       "\n",
       "mpl.figure.prototype._init_toolbar = function() {\n",
       "    var fig = this;\n",
       "\n",
       "    var nav_element = $('<div/>');\n",
       "    nav_element.attr('style', 'width: 100%');\n",
       "    this.root.append(nav_element);\n",
       "\n",
       "    // Define a callback function for later on.\n",
       "    function toolbar_event(event) {\n",
       "        return fig.toolbar_button_onclick(event['data']);\n",
       "    }\n",
       "    function toolbar_mouse_event(event) {\n",
       "        return fig.toolbar_button_onmouseover(event['data']);\n",
       "    }\n",
       "\n",
       "    for(var toolbar_ind in mpl.toolbar_items) {\n",
       "        var name = mpl.toolbar_items[toolbar_ind][0];\n",
       "        var tooltip = mpl.toolbar_items[toolbar_ind][1];\n",
       "        var image = mpl.toolbar_items[toolbar_ind][2];\n",
       "        var method_name = mpl.toolbar_items[toolbar_ind][3];\n",
       "\n",
       "        if (!name) {\n",
       "            // put a spacer in here.\n",
       "            continue;\n",
       "        }\n",
       "        var button = $('<button/>');\n",
       "        button.addClass('ui-button ui-widget ui-state-default ui-corner-all ' +\n",
       "                        'ui-button-icon-only');\n",
       "        button.attr('role', 'button');\n",
       "        button.attr('aria-disabled', 'false');\n",
       "        button.click(method_name, toolbar_event);\n",
       "        button.mouseover(tooltip, toolbar_mouse_event);\n",
       "\n",
       "        var icon_img = $('<span/>');\n",
       "        icon_img.addClass('ui-button-icon-primary ui-icon');\n",
       "        icon_img.addClass(image);\n",
       "        icon_img.addClass('ui-corner-all');\n",
       "\n",
       "        var tooltip_span = $('<span/>');\n",
       "        tooltip_span.addClass('ui-button-text');\n",
       "        tooltip_span.html(tooltip);\n",
       "\n",
       "        button.append(icon_img);\n",
       "        button.append(tooltip_span);\n",
       "\n",
       "        nav_element.append(button);\n",
       "    }\n",
       "\n",
       "    var fmt_picker_span = $('<span/>');\n",
       "\n",
       "    var fmt_picker = $('<select/>');\n",
       "    fmt_picker.addClass('mpl-toolbar-option ui-widget ui-widget-content');\n",
       "    fmt_picker_span.append(fmt_picker);\n",
       "    nav_element.append(fmt_picker_span);\n",
       "    this.format_dropdown = fmt_picker[0];\n",
       "\n",
       "    for (var ind in mpl.extensions) {\n",
       "        var fmt = mpl.extensions[ind];\n",
       "        var option = $(\n",
       "            '<option/>', {selected: fmt === mpl.default_extension}).html(fmt);\n",
       "        fmt_picker.append(option);\n",
       "    }\n",
       "\n",
       "    // Add hover states to the ui-buttons\n",
       "    $( \".ui-button\" ).hover(\n",
       "        function() { $(this).addClass(\"ui-state-hover\");},\n",
       "        function() { $(this).removeClass(\"ui-state-hover\");}\n",
       "    );\n",
       "\n",
       "    var status_bar = $('<span class=\"mpl-message\"/>');\n",
       "    nav_element.append(status_bar);\n",
       "    this.message = status_bar[0];\n",
       "}\n",
       "\n",
       "mpl.figure.prototype.request_resize = function(x_pixels, y_pixels) {\n",
       "    // Request matplotlib to resize the figure. Matplotlib will then trigger a resize in the client,\n",
       "    // which will in turn request a refresh of the image.\n",
       "    this.send_message('resize', {'width': x_pixels, 'height': y_pixels});\n",
       "}\n",
       "\n",
       "mpl.figure.prototype.send_message = function(type, properties) {\n",
       "    properties['type'] = type;\n",
       "    properties['figure_id'] = this.id;\n",
       "    this.ws.send(JSON.stringify(properties));\n",
       "}\n",
       "\n",
       "mpl.figure.prototype.send_draw_message = function() {\n",
       "    if (!this.waiting) {\n",
       "        this.waiting = true;\n",
       "        this.ws.send(JSON.stringify({type: \"draw\", figure_id: this.id}));\n",
       "    }\n",
       "}\n",
       "\n",
       "\n",
       "mpl.figure.prototype.handle_save = function(fig, msg) {\n",
       "    var format_dropdown = fig.format_dropdown;\n",
       "    var format = format_dropdown.options[format_dropdown.selectedIndex].value;\n",
       "    fig.ondownload(fig, format);\n",
       "}\n",
       "\n",
       "\n",
       "mpl.figure.prototype.handle_resize = function(fig, msg) {\n",
       "    var size = msg['size'];\n",
       "    if (size[0] != fig.canvas.width || size[1] != fig.canvas.height) {\n",
       "        fig._resize_canvas(size[0], size[1]);\n",
       "        fig.send_message(\"refresh\", {});\n",
       "    };\n",
       "}\n",
       "\n",
       "mpl.figure.prototype.handle_rubberband = function(fig, msg) {\n",
       "    var x0 = msg['x0'] / mpl.ratio;\n",
       "    var y0 = (fig.canvas.height - msg['y0']) / mpl.ratio;\n",
       "    var x1 = msg['x1'] / mpl.ratio;\n",
       "    var y1 = (fig.canvas.height - msg['y1']) / mpl.ratio;\n",
       "    x0 = Math.floor(x0) + 0.5;\n",
       "    y0 = Math.floor(y0) + 0.5;\n",
       "    x1 = Math.floor(x1) + 0.5;\n",
       "    y1 = Math.floor(y1) + 0.5;\n",
       "    var min_x = Math.min(x0, x1);\n",
       "    var min_y = Math.min(y0, y1);\n",
       "    var width = Math.abs(x1 - x0);\n",
       "    var height = Math.abs(y1 - y0);\n",
       "\n",
       "    fig.rubberband_context.clearRect(\n",
       "        0, 0, fig.canvas.width / mpl.ratio, fig.canvas.height / mpl.ratio);\n",
       "\n",
       "    fig.rubberband_context.strokeRect(min_x, min_y, width, height);\n",
       "}\n",
       "\n",
       "mpl.figure.prototype.handle_figure_label = function(fig, msg) {\n",
       "    // Updates the figure title.\n",
       "    fig.header.textContent = msg['label'];\n",
       "}\n",
       "\n",
       "mpl.figure.prototype.handle_cursor = function(fig, msg) {\n",
       "    var cursor = msg['cursor'];\n",
       "    switch(cursor)\n",
       "    {\n",
       "    case 0:\n",
       "        cursor = 'pointer';\n",
       "        break;\n",
       "    case 1:\n",
       "        cursor = 'default';\n",
       "        break;\n",
       "    case 2:\n",
       "        cursor = 'crosshair';\n",
       "        break;\n",
       "    case 3:\n",
       "        cursor = 'move';\n",
       "        break;\n",
       "    }\n",
       "    fig.rubberband_canvas.style.cursor = cursor;\n",
       "}\n",
       "\n",
       "mpl.figure.prototype.handle_message = function(fig, msg) {\n",
       "    fig.message.textContent = msg['message'];\n",
       "}\n",
       "\n",
       "mpl.figure.prototype.handle_draw = function(fig, msg) {\n",
       "    // Request the server to send over a new figure.\n",
       "    fig.send_draw_message();\n",
       "}\n",
       "\n",
       "mpl.figure.prototype.handle_image_mode = function(fig, msg) {\n",
       "    fig.image_mode = msg['mode'];\n",
       "}\n",
       "\n",
       "mpl.figure.prototype.updated_canvas_event = function() {\n",
       "    // Called whenever the canvas gets updated.\n",
       "    this.send_message(\"ack\", {});\n",
       "}\n",
       "\n",
       "// A function to construct a web socket function for onmessage handling.\n",
       "// Called in the figure constructor.\n",
       "mpl.figure.prototype._make_on_message_function = function(fig) {\n",
       "    return function socket_on_message(evt) {\n",
       "        if (evt.data instanceof Blob) {\n",
       "            /* FIXME: We get \"Resource interpreted as Image but\n",
       "             * transferred with MIME type text/plain:\" errors on\n",
       "             * Chrome.  But how to set the MIME type?  It doesn't seem\n",
       "             * to be part of the websocket stream */\n",
       "            evt.data.type = \"image/png\";\n",
       "\n",
       "            /* Free the memory for the previous frames */\n",
       "            if (fig.imageObj.src) {\n",
       "                (window.URL || window.webkitURL).revokeObjectURL(\n",
       "                    fig.imageObj.src);\n",
       "            }\n",
       "\n",
       "            fig.imageObj.src = (window.URL || window.webkitURL).createObjectURL(\n",
       "                evt.data);\n",
       "            fig.updated_canvas_event();\n",
       "            fig.waiting = false;\n",
       "            return;\n",
       "        }\n",
       "        else if (typeof evt.data === 'string' && evt.data.slice(0, 21) == \"data:image/png;base64\") {\n",
       "            fig.imageObj.src = evt.data;\n",
       "            fig.updated_canvas_event();\n",
       "            fig.waiting = false;\n",
       "            return;\n",
       "        }\n",
       "\n",
       "        var msg = JSON.parse(evt.data);\n",
       "        var msg_type = msg['type'];\n",
       "\n",
       "        // Call the  \"handle_{type}\" callback, which takes\n",
       "        // the figure and JSON message as its only arguments.\n",
       "        try {\n",
       "            var callback = fig[\"handle_\" + msg_type];\n",
       "        } catch (e) {\n",
       "            console.log(\"No handler for the '\" + msg_type + \"' message type: \", msg);\n",
       "            return;\n",
       "        }\n",
       "\n",
       "        if (callback) {\n",
       "            try {\n",
       "                // console.log(\"Handling '\" + msg_type + \"' message: \", msg);\n",
       "                callback(fig, msg);\n",
       "            } catch (e) {\n",
       "                console.log(\"Exception inside the 'handler_\" + msg_type + \"' callback:\", e, e.stack, msg);\n",
       "            }\n",
       "        }\n",
       "    };\n",
       "}\n",
       "\n",
       "// from http://stackoverflow.com/questions/1114465/getting-mouse-location-in-canvas\n",
       "mpl.findpos = function(e) {\n",
       "    //this section is from http://www.quirksmode.org/js/events_properties.html\n",
       "    var targ;\n",
       "    if (!e)\n",
       "        e = window.event;\n",
       "    if (e.target)\n",
       "        targ = e.target;\n",
       "    else if (e.srcElement)\n",
       "        targ = e.srcElement;\n",
       "    if (targ.nodeType == 3) // defeat Safari bug\n",
       "        targ = targ.parentNode;\n",
       "\n",
       "    // jQuery normalizes the pageX and pageY\n",
       "    // pageX,Y are the mouse positions relative to the document\n",
       "    // offset() returns the position of the element relative to the document\n",
       "    var x = e.pageX - $(targ).offset().left;\n",
       "    var y = e.pageY - $(targ).offset().top;\n",
       "\n",
       "    return {\"x\": x, \"y\": y};\n",
       "};\n",
       "\n",
       "/*\n",
       " * return a copy of an object with only non-object keys\n",
       " * we need this to avoid circular references\n",
       " * http://stackoverflow.com/a/24161582/3208463\n",
       " */\n",
       "function simpleKeys (original) {\n",
       "  return Object.keys(original).reduce(function (obj, key) {\n",
       "    if (typeof original[key] !== 'object')\n",
       "        obj[key] = original[key]\n",
       "    return obj;\n",
       "  }, {});\n",
       "}\n",
       "\n",
       "mpl.figure.prototype.mouse_event = function(event, name) {\n",
       "    var canvas_pos = mpl.findpos(event)\n",
       "\n",
       "    if (name === 'button_press')\n",
       "    {\n",
       "        this.canvas.focus();\n",
       "        this.canvas_div.focus();\n",
       "    }\n",
       "\n",
       "    var x = canvas_pos.x * mpl.ratio;\n",
       "    var y = canvas_pos.y * mpl.ratio;\n",
       "\n",
       "    this.send_message(name, {x: x, y: y, button: event.button,\n",
       "                             step: event.step,\n",
       "                             guiEvent: simpleKeys(event)});\n",
       "\n",
       "    /* This prevents the web browser from automatically changing to\n",
       "     * the text insertion cursor when the button is pressed.  We want\n",
       "     * to control all of the cursor setting manually through the\n",
       "     * 'cursor' event from matplotlib */\n",
       "    event.preventDefault();\n",
       "    return false;\n",
       "}\n",
       "\n",
       "mpl.figure.prototype._key_event_extra = function(event, name) {\n",
       "    // Handle any extra behaviour associated with a key event\n",
       "}\n",
       "\n",
       "mpl.figure.prototype.key_event = function(event, name) {\n",
       "\n",
       "    // Prevent repeat events\n",
       "    if (name == 'key_press')\n",
       "    {\n",
       "        if (event.which === this._key)\n",
       "            return;\n",
       "        else\n",
       "            this._key = event.which;\n",
       "    }\n",
       "    if (name == 'key_release')\n",
       "        this._key = null;\n",
       "\n",
       "    var value = '';\n",
       "    if (event.ctrlKey && event.which != 17)\n",
       "        value += \"ctrl+\";\n",
       "    if (event.altKey && event.which != 18)\n",
       "        value += \"alt+\";\n",
       "    if (event.shiftKey && event.which != 16)\n",
       "        value += \"shift+\";\n",
       "\n",
       "    value += 'k';\n",
       "    value += event.which.toString();\n",
       "\n",
       "    this._key_event_extra(event, name);\n",
       "\n",
       "    this.send_message(name, {key: value,\n",
       "                             guiEvent: simpleKeys(event)});\n",
       "    return false;\n",
       "}\n",
       "\n",
       "mpl.figure.prototype.toolbar_button_onclick = function(name) {\n",
       "    if (name == 'download') {\n",
       "        this.handle_save(this, null);\n",
       "    } else {\n",
       "        this.send_message(\"toolbar_button\", {name: name});\n",
       "    }\n",
       "};\n",
       "\n",
       "mpl.figure.prototype.toolbar_button_onmouseover = function(tooltip) {\n",
       "    this.message.textContent = tooltip;\n",
       "};\n",
       "mpl.toolbar_items = [[\"Home\", \"Reset original view\", \"fa fa-home icon-home\", \"home\"], [\"Back\", \"Back to previous view\", \"fa fa-arrow-left icon-arrow-left\", \"back\"], [\"Forward\", \"Forward to next view\", \"fa fa-arrow-right icon-arrow-right\", \"forward\"], [\"\", \"\", \"\", \"\"], [\"Pan\", \"Pan axes with left mouse, zoom with right\", \"fa fa-arrows icon-move\", \"pan\"], [\"Zoom\", \"Zoom to rectangle\", \"fa fa-square-o icon-check-empty\", \"zoom\"], [\"\", \"\", \"\", \"\"], [\"Download\", \"Download plot\", \"fa fa-floppy-o icon-save\", \"download\"]];\n",
       "\n",
       "mpl.extensions = [\"eps\", \"jpeg\", \"pdf\", \"png\", \"ps\", \"raw\", \"svg\", \"tif\"];\n",
       "\n",
       "mpl.default_extension = \"png\";var comm_websocket_adapter = function(comm) {\n",
       "    // Create a \"websocket\"-like object which calls the given IPython comm\n",
       "    // object with the appropriate methods. Currently this is a non binary\n",
       "    // socket, so there is still some room for performance tuning.\n",
       "    var ws = {};\n",
       "\n",
       "    ws.close = function() {\n",
       "        comm.close()\n",
       "    };\n",
       "    ws.send = function(m) {\n",
       "        //console.log('sending', m);\n",
       "        comm.send(m);\n",
       "    };\n",
       "    // Register the callback with on_msg.\n",
       "    comm.on_msg(function(msg) {\n",
       "        //console.log('receiving', msg['content']['data'], msg);\n",
       "        // Pass the mpl event to the overridden (by mpl) onmessage function.\n",
       "        ws.onmessage(msg['content']['data'])\n",
       "    });\n",
       "    return ws;\n",
       "}\n",
       "\n",
       "mpl.mpl_figure_comm = function(comm, msg) {\n",
       "    // This is the function which gets called when the mpl process\n",
       "    // starts-up an IPython Comm through the \"matplotlib\" channel.\n",
       "\n",
       "    var id = msg.content.data.id;\n",
       "    // Get hold of the div created by the display call when the Comm\n",
       "    // socket was opened in Python.\n",
       "    var element = $(\"#\" + id);\n",
       "    var ws_proxy = comm_websocket_adapter(comm)\n",
       "\n",
       "    function ondownload(figure, format) {\n",
       "        window.open(figure.imageObj.src);\n",
       "    }\n",
       "\n",
       "    var fig = new mpl.figure(id, ws_proxy,\n",
       "                           ondownload,\n",
       "                           element.get(0));\n",
       "\n",
       "    // Call onopen now - mpl needs it, as it is assuming we've passed it a real\n",
       "    // web socket which is closed, not our websocket->open comm proxy.\n",
       "    ws_proxy.onopen();\n",
       "\n",
       "    fig.parent_element = element.get(0);\n",
       "    fig.cell_info = mpl.find_output_cell(\"<div id='\" + id + \"'></div>\");\n",
       "    if (!fig.cell_info) {\n",
       "        console.error(\"Failed to find cell for figure\", id, fig);\n",
       "        return;\n",
       "    }\n",
       "\n",
       "    var output_index = fig.cell_info[2]\n",
       "    var cell = fig.cell_info[0];\n",
       "\n",
       "};\n",
       "\n",
       "mpl.figure.prototype.handle_close = function(fig, msg) {\n",
       "    var width = fig.canvas.width/mpl.ratio\n",
       "    fig.root.unbind('remove')\n",
       "\n",
       "    // Update the output cell to use the data from the current canvas.\n",
       "    fig.push_to_output();\n",
       "    var dataURL = fig.canvas.toDataURL();\n",
       "    // Re-enable the keyboard manager in IPython - without this line, in FF,\n",
       "    // the notebook keyboard shortcuts fail.\n",
       "    IPython.keyboard_manager.enable()\n",
       "    $(fig.parent_element).html('<img src=\"' + dataURL + '\" width=\"' + width + '\">');\n",
       "    fig.close_ws(fig, msg);\n",
       "}\n",
       "\n",
       "mpl.figure.prototype.close_ws = function(fig, msg){\n",
       "    fig.send_message('closing', msg);\n",
       "    // fig.ws.close()\n",
       "}\n",
       "\n",
       "mpl.figure.prototype.push_to_output = function(remove_interactive) {\n",
       "    // Turn the data on the canvas into data in the output cell.\n",
       "    var width = this.canvas.width/mpl.ratio\n",
       "    var dataURL = this.canvas.toDataURL();\n",
       "    this.cell_info[1]['text/html'] = '<img src=\"' + dataURL + '\" width=\"' + width + '\">';\n",
       "}\n",
       "\n",
       "mpl.figure.prototype.updated_canvas_event = function() {\n",
       "    // Tell IPython that the notebook contents must change.\n",
       "    IPython.notebook.set_dirty(true);\n",
       "    this.send_message(\"ack\", {});\n",
       "    var fig = this;\n",
       "    // Wait a second, then push the new image to the DOM so\n",
       "    // that it is saved nicely (might be nice to debounce this).\n",
       "    setTimeout(function () { fig.push_to_output() }, 1000);\n",
       "}\n",
       "\n",
       "mpl.figure.prototype._init_toolbar = function() {\n",
       "    var fig = this;\n",
       "\n",
       "    var nav_element = $('<div/>');\n",
       "    nav_element.attr('style', 'width: 100%');\n",
       "    this.root.append(nav_element);\n",
       "\n",
       "    // Define a callback function for later on.\n",
       "    function toolbar_event(event) {\n",
       "        return fig.toolbar_button_onclick(event['data']);\n",
       "    }\n",
       "    function toolbar_mouse_event(event) {\n",
       "        return fig.toolbar_button_onmouseover(event['data']);\n",
       "    }\n",
       "\n",
       "    for(var toolbar_ind in mpl.toolbar_items){\n",
       "        var name = mpl.toolbar_items[toolbar_ind][0];\n",
       "        var tooltip = mpl.toolbar_items[toolbar_ind][1];\n",
       "        var image = mpl.toolbar_items[toolbar_ind][2];\n",
       "        var method_name = mpl.toolbar_items[toolbar_ind][3];\n",
       "\n",
       "        if (!name) { continue; };\n",
       "\n",
       "        var button = $('<button class=\"btn btn-default\" href=\"#\" title=\"' + name + '\"><i class=\"fa ' + image + ' fa-lg\"></i></button>');\n",
       "        button.click(method_name, toolbar_event);\n",
       "        button.mouseover(tooltip, toolbar_mouse_event);\n",
       "        nav_element.append(button);\n",
       "    }\n",
       "\n",
       "    // Add the status bar.\n",
       "    var status_bar = $('<span class=\"mpl-message\" style=\"text-align:right; float: right;\"/>');\n",
       "    nav_element.append(status_bar);\n",
       "    this.message = status_bar[0];\n",
       "\n",
       "    // Add the close button to the window.\n",
       "    var buttongrp = $('<div class=\"btn-group inline pull-right\"></div>');\n",
       "    var button = $('<button class=\"btn btn-mini btn-primary\" href=\"#\" title=\"Stop Interaction\"><i class=\"fa fa-power-off icon-remove icon-large\"></i></button>');\n",
       "    button.click(function (evt) { fig.handle_close(fig, {}); } );\n",
       "    button.mouseover('Stop Interaction', toolbar_mouse_event);\n",
       "    buttongrp.append(button);\n",
       "    var titlebar = this.root.find($('.ui-dialog-titlebar'));\n",
       "    titlebar.prepend(buttongrp);\n",
       "}\n",
       "\n",
       "mpl.figure.prototype._root_extra_style = function(el){\n",
       "    var fig = this\n",
       "    el.on(\"remove\", function(){\n",
       "\tfig.close_ws(fig, {});\n",
       "    });\n",
       "}\n",
       "\n",
       "mpl.figure.prototype._canvas_extra_style = function(el){\n",
       "    // this is important to make the div 'focusable\n",
       "    el.attr('tabindex', 0)\n",
       "    // reach out to IPython and tell the keyboard manager to turn it's self\n",
       "    // off when our div gets focus\n",
       "\n",
       "    // location in version 3\n",
       "    if (IPython.notebook.keyboard_manager) {\n",
       "        IPython.notebook.keyboard_manager.register_events(el);\n",
       "    }\n",
       "    else {\n",
       "        // location in version 2\n",
       "        IPython.keyboard_manager.register_events(el);\n",
       "    }\n",
       "\n",
       "}\n",
       "\n",
       "mpl.figure.prototype._key_event_extra = function(event, name) {\n",
       "    var manager = IPython.notebook.keyboard_manager;\n",
       "    if (!manager)\n",
       "        manager = IPython.keyboard_manager;\n",
       "\n",
       "    // Check for shift+enter\n",
       "    if (event.shiftKey && event.which == 13) {\n",
       "        this.canvas_div.blur();\n",
       "        // select the cell after this one\n",
       "        var index = IPython.notebook.find_cell_index(this.cell_info[0]);\n",
       "        IPython.notebook.select(index + 1);\n",
       "    }\n",
       "}\n",
       "\n",
       "mpl.figure.prototype.handle_save = function(fig, msg) {\n",
       "    fig.ondownload(fig, null);\n",
       "}\n",
       "\n",
       "\n",
       "mpl.find_output_cell = function(html_output) {\n",
       "    // Return the cell and output element which can be found *uniquely* in the notebook.\n",
       "    // Note - this is a bit hacky, but it is done because the \"notebook_saving.Notebook\"\n",
       "    // IPython event is triggered only after the cells have been serialised, which for\n",
       "    // our purposes (turning an active figure into a static one), is too late.\n",
       "    var cells = IPython.notebook.get_cells();\n",
       "    var ncells = cells.length;\n",
       "    for (var i=0; i<ncells; i++) {\n",
       "        var cell = cells[i];\n",
       "        if (cell.cell_type === 'code'){\n",
       "            for (var j=0; j<cell.output_area.outputs.length; j++) {\n",
       "                var data = cell.output_area.outputs[j];\n",
       "                if (data.data) {\n",
       "                    // IPython >= 3 moved mimebundle to data attribute of output\n",
       "                    data = data.data;\n",
       "                }\n",
       "                if (data['text/html'] == html_output) {\n",
       "                    return [cell, data, j];\n",
       "                }\n",
       "            }\n",
       "        }\n",
       "    }\n",
       "}\n",
       "\n",
       "// Register the function which deals with the matplotlib target/channel.\n",
       "// The kernel may be null if the page has been refreshed.\n",
       "if (IPython.notebook.kernel != null) {\n",
       "    IPython.notebook.kernel.comm_manager.register_target('matplotlib', mpl.mpl_figure_comm);\n",
       "}\n"
      ],
      "text/plain": [
       "<IPython.core.display.Javascript object>"
      ]
     },
     "metadata": {},
     "output_type": "display_data"
    },
    {
     "data": {
      "text/html": [
       "<img src=\"data:image/png;base64,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\" width=\"431.1111225316557\">"
      ],
      "text/plain": [
       "<IPython.core.display.HTML object>"
      ]
     },
     "metadata": {},
     "output_type": "display_data"
    },
    {
     "data": {
      "text/plain": [
       "[<matplotlib.lines.Line2D at 0x1f7dba45d08>]"
      ]
     },
     "execution_count": 58,
     "metadata": {},
     "output_type": "execute_result"
    }
   ],
   "source": [
    "import numpy as np\n",
    "x = np.linspace(0,2*np.pi,100)\n",
    "plt.plot(x, np.sin(x))"
   ]
  },
  {
   "cell_type": "markdown",
   "metadata": {},
   "source": [
    "This should open an interactive plot, where you can scroll around the image, zoom in, return to the \"home\" position, and even save the file.  Only one interactive plot can be active in a notebook at a time.  You can also generate \"static\" inline images by replacing the `%matplotlib notebook` magic with `%matplotlib inline`."
   ]
  },
  {
   "cell_type": "code",
   "execution_count": 53,
   "metadata": {},
   "outputs": [],
   "source": [
    "%matplotlib inline"
   ]
  },
  {
   "cell_type": "code",
   "execution_count": 54,
   "metadata": {},
   "outputs": [
    {
     "data": {
      "text/plain": [
       "[<matplotlib.lines.Line2D at 0x1f7db8f2888>]"
      ]
     },
     "execution_count": 54,
     "metadata": {},
     "output_type": "execute_result"
    },
    {
     "data": {
      "image/png": "[encoded data removed]",
      "text/plain": [
       "<Figure size 432x288 with 1 Axes>"
      ]
     },
     "metadata": {
      "needs_background": "light"
     },
     "output_type": "display_data"
    }
   ],
   "source": [
    "plt.plot(x, np.sin(x))"
   ]
  },
  {
   "cell_type": "code",
   "execution_count": null,
   "metadata": {},
   "outputs": [],
   "source": []
  }
 ],
 "metadata": {
  "kernelspec": {
   "display_name": "Python 3",
   "language": "python",
   "name": "python3"
  },
  "language_info": {
   "codemirror_mode": {
    "name": "ipython",
    "version": 3
   },
   "file_extension": ".py",
   "mimetype": "text/x-python",
   "name": "python",
   "nbconvert_exporter": "python",
   "pygments_lexer": "ipython3",
   "version": "3.7.5"
  }
 },
 "nbformat": 4,
 "nbformat_minor": 2
}
